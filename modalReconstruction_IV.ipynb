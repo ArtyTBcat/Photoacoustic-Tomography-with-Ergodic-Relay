{
 "cells": [
  {
   "cell_type": "code",
   "execution_count": 4,
   "metadata": {
    "ExecuteTime": {
     "end_time": "2024-07-11T00:32:08.036110Z",
     "start_time": "2024-07-11T00:32:08.032695Z"
    },
    "collapsed": true
   },
   "outputs": [],
   "source": [
    "import math\n",
    "import numpy as np\n",
    "import scipy"
   ]
  },
  {
   "cell_type": "code",
   "execution_count": 5,
   "metadata": {
    "ExecuteTime": {
     "end_time": "2024-07-11T00:32:10.796355Z",
     "start_time": "2024-07-11T00:32:09.962827Z"
    },
    "collapsed": false
   },
   "outputs": [],
   "source": [
    "def load_sensordata(filename):\n",
    "    data = scipy.io.loadmat(filename)\n",
    "    sensor_data = data['sensor_data_noisy']\n",
    "    p_recorded = data['p_recorded']\n",
    "    medium = data['medium']\n",
    "    sensor = data['sensor']\n",
    "    return data, sensor_data, p_recorded, medium, sensor\n",
    "\n",
    "data = load_sensordata('sensor_data_noisy')"
   ]
  },
  {
   "cell_type": "markdown",
   "metadata": {
    "collapsed": false
   },
   "source": [
    "\n",
    "The mode shapes in a rectangular domain with lengths \\(L_x\\) and \\(L_y\\) are given by:\n",
    "$$\n",
    "\\[\n",
    "\\phi_{n,m}(x, y) = \\sqrt{\\frac{4}{L_x L_y}} \\sin\\left(\\frac{n \\pi x}{L_x}\\right) \\sin\\left(\\frac{m \\pi y}{L_y}\\right)\n",
    "\\]\n",
    "$$"
   ]
  },
  {
   "cell_type": "code",
   "execution_count": 6,
   "metadata": {
    "ExecuteTime": {
     "end_time": "2024-07-11T00:32:43.268763Z",
     "start_time": "2024-07-11T00:32:43.264779Z"
    },
    "collapsed": false
   },
   "outputs": [],
   "source": [
    "def modeshape(x, y, Lx, Ly, n):\n",
    "    shape = math.sqrt(4/Lx*Ly) * math.sin((n * math.pi * x)/ Lx) * math.sin((n * math.pi * x)/ Ly)\n",
    "    return shape"
   ]
  },
  {
   "cell_type": "code",
   "execution_count": null,
   "metadata": {
    "collapsed": false
   },
   "outputs": [],
   "source": []
  }
 ],
 "metadata": {
  "kernelspec": {
   "display_name": "Python 3",
   "language": "python",
   "name": "python3"
  },
  "language_info": {
   "codemirror_mode": {
    "name": "ipython",
    "version": 3
   },
   "file_extension": ".py",
   "mimetype": "text/x-python",
   "name": "python",
   "nbconvert_exporter": "python",
   "pygments_lexer": "ipython3",
   "version": "3.11.1"
  }
 },
 "nbformat": 4,
 "nbformat_minor": 0
}
